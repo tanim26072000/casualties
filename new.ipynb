{
 "cells": [
  {
   "cell_type": "code",
   "execution_count": 2,
   "metadata": {},
   "outputs": [],
   "source": [
    "import pandas as pd\n",
    "data= pd.read_excel(\n",
    "    \"TGI - MAPPING CASUALTIES DURING MASS UPRISING IN BANGLADESH - 2024.xlsx\")"
   ]
  },
  {
   "cell_type": "code",
   "execution_count": 5,
   "metadata": {},
   "outputs": [
    {
     "data": {
      "text/plain": [
       "Index(['S.N.', 'Date of Incident', 'Name of the Victim/s', 'Age', 'Occupation',\n",
       "       'Death/Injury', 'Incident Location', 'Location Coordinates', 'Latitude',\n",
       "       'Longitude'],\n",
       "      dtype='object')"
      ]
     },
     "execution_count": 5,
     "metadata": {},
     "output_type": "execute_result"
    }
   ],
   "source": [
    "data.columns"
   ]
  },
  {
   "cell_type": "code",
   "execution_count": 11,
   "metadata": {},
   "outputs": [
    {
     "data": {
      "text/plain": [
       "0      2024-08-05 00:00:00\n",
       "1      2024-08-04 00:00:00\n",
       "2      2024-08-05 00:00:00\n",
       "6      2024-08-05 00:00:00\n",
       "10     2024-07-19 00:00:00\n",
       "              ...         \n",
       "853           Unidentified\n",
       "854           Unidentified\n",
       "855           Unidentified\n",
       "856           Unidentified\n",
       "857           Unidentified\n",
       "Name: Date of Incident, Length: 208, dtype: object"
      ]
     },
     "execution_count": 11,
     "metadata": {},
     "output_type": "execute_result"
    }
   ],
   "source": [
    "data['Date of Incident']"
   ]
  },
  {
   "cell_type": "code",
   "execution_count": 10,
   "metadata": {},
   "outputs": [
    {
     "data": {
      "text/plain": [
       "Death/Injury\n",
       "Death                 161\n",
       "No Casulties           26\n",
       "Injury                 12\n",
       "Multiple Casulties      9\n",
       "Name: count, dtype: int64"
      ]
     },
     "execution_count": 10,
     "metadata": {},
     "output_type": "execute_result"
    }
   ],
   "source": [
    "data['Death/Injury'].value_counts()"
   ]
  },
  {
   "cell_type": "code",
   "execution_count": 9,
   "metadata": {},
   "outputs": [],
   "source": [
    "data.dropna( inplace=True)"
   ]
  },
  {
   "cell_type": "code",
   "execution_count": 12,
   "metadata": {},
   "outputs": [],
   "source": [
    "data.set_index('S.N.', inplace=True)"
   ]
  },
  {
   "cell_type": "code",
   "execution_count": 18,
   "metadata": {},
   "outputs": [],
   "source": [
    "data.to_csv('TGI - MAPPING CASUALTIES DURING MASS UPRISING IN BANGLADESH - 2024.csv',index= False)"
   ]
  },
  {
   "cell_type": "code",
   "execution_count": 20,
   "metadata": {},
   "outputs": [
    {
     "data": {
      "text/html": [
       "<div>\n",
       "<style scoped>\n",
       "    .dataframe tbody tr th:only-of-type {\n",
       "        vertical-align: middle;\n",
       "    }\n",
       "\n",
       "    .dataframe tbody tr th {\n",
       "        vertical-align: top;\n",
       "    }\n",
       "\n",
       "    .dataframe thead th {\n",
       "        text-align: right;\n",
       "    }\n",
       "</style>\n",
       "<table border=\"1\" class=\"dataframe\">\n",
       "  <thead>\n",
       "    <tr style=\"text-align: right;\">\n",
       "      <th></th>\n",
       "      <th>Date of Incident</th>\n",
       "      <th>Name of the Victim/s</th>\n",
       "      <th>Age</th>\n",
       "      <th>Occupation</th>\n",
       "      <th>Death/Injury</th>\n",
       "      <th>Incident Location</th>\n",
       "      <th>Location Coordinates</th>\n",
       "      <th>Latitude</th>\n",
       "      <th>Longitude</th>\n",
       "    </tr>\n",
       "  </thead>\n",
       "  <tbody>\n",
       "    <tr>\n",
       "      <th>0</th>\n",
       "      <td>2024-08-05 00:00:00</td>\n",
       "      <td>A K M SHAHIDUL ISLAM</td>\n",
       "      <td>40</td>\n",
       "      <td>Private Employee</td>\n",
       "      <td>Death</td>\n",
       "      <td>Jatrabari Police Station area, Dhaka</td>\n",
       "      <td>23.710460319754585, 90.43560516983399</td>\n",
       "      <td>23.710460</td>\n",
       "      <td>90.435605</td>\n",
       "    </tr>\n",
       "    <tr>\n",
       "      <th>1</th>\n",
       "      <td>2024-08-04 00:00:00</td>\n",
       "      <td>ABDULLAH AL MAHIN</td>\n",
       "      <td>16</td>\n",
       "      <td>Student</td>\n",
       "      <td>Death</td>\n",
       "      <td>RAJUK Commercial Complex, Uttara, Dhaka</td>\n",
       "      <td>23.87628719846977, 90.39836342047677</td>\n",
       "      <td>23.876287</td>\n",
       "      <td>90.398363</td>\n",
       "    </tr>\n",
       "    <tr>\n",
       "      <th>2</th>\n",
       "      <td>2024-08-05 00:00:00</td>\n",
       "      <td>Nazmul Islam Raju</td>\n",
       "      <td>39</td>\n",
       "      <td>Tailor</td>\n",
       "      <td>Death</td>\n",
       "      <td>Near Uttara East Police Station, Azampur, Dhaka</td>\n",
       "      <td>23.87628719846977, 90.39836342047677</td>\n",
       "      <td>23.876287</td>\n",
       "      <td>90.398363</td>\n",
       "    </tr>\n",
       "    <tr>\n",
       "      <th>3</th>\n",
       "      <td>2024-08-05 00:00:00</td>\n",
       "      <td>ABDUL KADIR MANIK</td>\n",
       "      <td>43</td>\n",
       "      <td>Salesman</td>\n",
       "      <td>Death</td>\n",
       "      <td>In front of Uttara East Police Station, Dhaka</td>\n",
       "      <td>23.866956971800903, 90.40048151309988</td>\n",
       "      <td>23.866957</td>\n",
       "      <td>90.400482</td>\n",
       "    </tr>\n",
       "    <tr>\n",
       "      <th>4</th>\n",
       "      <td>2024-07-19 00:00:00</td>\n",
       "      <td>ABDULLAH AL ABIR</td>\n",
       "      <td>24</td>\n",
       "      <td>Private Employee</td>\n",
       "      <td>Death</td>\n",
       "      <td>Baridhara, Dhaka</td>\n",
       "      <td>23.80014068864898, 90.42074081517877</td>\n",
       "      <td>23.800141</td>\n",
       "      <td>90.420741</td>\n",
       "    </tr>\n",
       "    <tr>\n",
       "      <th>...</th>\n",
       "      <td>...</td>\n",
       "      <td>...</td>\n",
       "      <td>...</td>\n",
       "      <td>...</td>\n",
       "      <td>...</td>\n",
       "      <td>...</td>\n",
       "      <td>...</td>\n",
       "      <td>...</td>\n",
       "      <td>...</td>\n",
       "    </tr>\n",
       "    <tr>\n",
       "      <th>203</th>\n",
       "      <td>Unidentified</td>\n",
       "      <td>Unidentified</td>\n",
       "      <td>Unidentified</td>\n",
       "      <td>Unidentified</td>\n",
       "      <td>No Casulties</td>\n",
       "      <td>Mawna, Gazipur</td>\n",
       "      <td>24.220507, 90.412842</td>\n",
       "      <td>24.220507</td>\n",
       "      <td>90.412842</td>\n",
       "    </tr>\n",
       "    <tr>\n",
       "      <th>204</th>\n",
       "      <td>Unidentified</td>\n",
       "      <td>Unidentified</td>\n",
       "      <td>Unidentified</td>\n",
       "      <td>Unidentified</td>\n",
       "      <td>No Casulties</td>\n",
       "      <td>Mawna, Gazipur</td>\n",
       "      <td>24.220210, 90.413743</td>\n",
       "      <td>24.220210</td>\n",
       "      <td>90.413743</td>\n",
       "    </tr>\n",
       "    <tr>\n",
       "      <th>205</th>\n",
       "      <td>Unidentified</td>\n",
       "      <td>Unidentified</td>\n",
       "      <td>Unidentified</td>\n",
       "      <td>Unidentified</td>\n",
       "      <td>No Casulties</td>\n",
       "      <td>Mawna, Gazipur</td>\n",
       "      <td>24.220210, 90.413743</td>\n",
       "      <td>24.220210</td>\n",
       "      <td>90.413743</td>\n",
       "    </tr>\n",
       "    <tr>\n",
       "      <th>206</th>\n",
       "      <td>Unidentified</td>\n",
       "      <td>Unidentified</td>\n",
       "      <td>Unidentified</td>\n",
       "      <td>Unidentified</td>\n",
       "      <td>No Casulties</td>\n",
       "      <td>Basila Road, Mohammadpur</td>\n",
       "      <td>23.756861, 90.359755</td>\n",
       "      <td>23.756861</td>\n",
       "      <td>90.359755</td>\n",
       "    </tr>\n",
       "    <tr>\n",
       "      <th>207</th>\n",
       "      <td>Unidentified</td>\n",
       "      <td>Unidentified</td>\n",
       "      <td>Unidentified</td>\n",
       "      <td>Unidentified</td>\n",
       "      <td>No Casulties</td>\n",
       "      <td>Lalmatia, Mohammadpur</td>\n",
       "      <td>23.753513, 90.366336</td>\n",
       "      <td>23.753513</td>\n",
       "      <td>90.366336</td>\n",
       "    </tr>\n",
       "  </tbody>\n",
       "</table>\n",
       "<p>208 rows × 9 columns</p>\n",
       "</div>"
      ],
      "text/plain": [
       "        Date of Incident  Name of the Victim/s           Age  \\\n",
       "0    2024-08-05 00:00:00  A K M SHAHIDUL ISLAM            40   \n",
       "1    2024-08-04 00:00:00     ABDULLAH AL MAHIN            16   \n",
       "2    2024-08-05 00:00:00     Nazmul Islam Raju            39   \n",
       "3    2024-08-05 00:00:00     ABDUL KADIR MANIK            43   \n",
       "4    2024-07-19 00:00:00      ABDULLAH AL ABIR            24   \n",
       "..                   ...                   ...           ...   \n",
       "203         Unidentified          Unidentified  Unidentified   \n",
       "204         Unidentified          Unidentified  Unidentified   \n",
       "205         Unidentified          Unidentified  Unidentified   \n",
       "206         Unidentified          Unidentified  Unidentified   \n",
       "207         Unidentified          Unidentified  Unidentified   \n",
       "\n",
       "           Occupation  Death/Injury  \\\n",
       "0    Private Employee         Death   \n",
       "1             Student         Death   \n",
       "2              Tailor         Death   \n",
       "3            Salesman         Death   \n",
       "4    Private Employee         Death   \n",
       "..                ...           ...   \n",
       "203      Unidentified  No Casulties   \n",
       "204      Unidentified  No Casulties   \n",
       "205      Unidentified  No Casulties   \n",
       "206      Unidentified  No Casulties   \n",
       "207      Unidentified  No Casulties   \n",
       "\n",
       "                                   Incident Location  \\\n",
       "0               Jatrabari Police Station area, Dhaka   \n",
       "1            RAJUK Commercial Complex, Uttara, Dhaka   \n",
       "2    Near Uttara East Police Station, Azampur, Dhaka   \n",
       "3      In front of Uttara East Police Station, Dhaka   \n",
       "4                                   Baridhara, Dhaka   \n",
       "..                                               ...   \n",
       "203                                   Mawna, Gazipur   \n",
       "204                                   Mawna, Gazipur   \n",
       "205                                   Mawna, Gazipur   \n",
       "206                         Basila Road, Mohammadpur   \n",
       "207                            Lalmatia, Mohammadpur   \n",
       "\n",
       "                      Location Coordinates   Latitude  Longitude  \n",
       "0    23.710460319754585, 90.43560516983399  23.710460  90.435605  \n",
       "1     23.87628719846977, 90.39836342047677  23.876287  90.398363  \n",
       "2     23.87628719846977, 90.39836342047677  23.876287  90.398363  \n",
       "3    23.866956971800903, 90.40048151309988  23.866957  90.400482  \n",
       "4     23.80014068864898, 90.42074081517877  23.800141  90.420741  \n",
       "..                                     ...        ...        ...  \n",
       "203                   24.220507, 90.412842  24.220507  90.412842  \n",
       "204                   24.220210, 90.413743  24.220210  90.413743  \n",
       "205                   24.220210, 90.413743  24.220210  90.413743  \n",
       "206                   23.756861, 90.359755  23.756861  90.359755  \n",
       "207                   23.753513, 90.366336  23.753513  90.366336  \n",
       "\n",
       "[208 rows x 9 columns]"
      ]
     },
     "execution_count": 20,
     "metadata": {},
     "output_type": "execute_result"
    }
   ],
   "source": [
    "data= pd.read_csv('TGI - MAPPING CASUALTIES DURING MASS UPRISING IN BANGLADESH - 2024.csv')\n"
   ]
  }
 ],
 "metadata": {
  "kernelspec": {
   "display_name": "Python 3",
   "language": "python",
   "name": "python3"
  },
  "language_info": {
   "codemirror_mode": {
    "name": "ipython",
    "version": 3
   },
   "file_extension": ".py",
   "mimetype": "text/x-python",
   "name": "python",
   "nbconvert_exporter": "python",
   "pygments_lexer": "ipython3",
   "version": "3.11.4"
  }
 },
 "nbformat": 4,
 "nbformat_minor": 2
}
